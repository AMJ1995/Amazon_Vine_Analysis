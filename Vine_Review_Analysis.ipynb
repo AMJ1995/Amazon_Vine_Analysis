{
  "nbformat": 4,
  "nbformat_minor": 0,
  "metadata": {
    "colab": {
      "name": "Vine_Review_Analysis.ipynb",
      "provenance": [],
      "collapsed_sections": []
    },
    "kernelspec": {
      "name": "python3",
      "display_name": "Python 3"
    },
    "nteract": {
      "version": "0.12.3"
    },
    "language_info": {
      "name": "python"
    }
  },
  "cells": [
    {
      "cell_type": "code",
      "metadata": {
        "id": "V58rxea0HqSa",
        "colab": {
          "base_uri": "https://localhost:8080/"
        },
        "outputId": "aa6d1ec3-e402-4f85-b5e2-9cfa58fcb8b0"
      },
      "source": [
        "import os\n",
        "# Find the latest version of spark 3.0 from http://www.apache.org/dist/spark/ and enter as the spark version\n",
        "# For example:\n",
        "# spark_version = 'spark-3.0.3'\n",
        "spark_version = 'spark-3.0.3'\n",
        "os.environ['SPARK_VERSION']=spark_version\n",
        "\n",
        "# Install Spark and Java\n",
        "!apt-get update\n",
        "!apt-get install openjdk-11-jdk-headless -qq > /dev/null\n",
        "!wget -q http://www.apache.org/dist/spark/$SPARK_VERSION/$SPARK_VERSION-bin-hadoop2.7.tgz\n",
        "!tar xf $SPARK_VERSION-bin-hadoop2.7.tgz\n",
        "!pip install -q findspark\n",
        "\n",
        "# Set Environment Variables\n",
        "import os\n",
        "os.environ[\"JAVA_HOME\"] = \"/usr/lib/jvm/java-11-openjdk-amd64\"\n",
        "os.environ[\"SPARK_HOME\"] = f\"/content/{spark_version}-bin-hadoop2.7\"\n",
        "\n",
        "# Start a SparkSession\n",
        "import findspark\n",
        "findspark.init()"
      ],
      "execution_count": 1,
      "outputs": [
        {
          "output_type": "stream",
          "name": "stdout",
          "text": [
            "\r0% [Working]\r            \rHit:1 http://archive.ubuntu.com/ubuntu bionic InRelease\n",
            "\r0% [Connecting to security.ubuntu.com (185.125.190.39)] [Waiting for headers] [\r                                                                               \rGet:2 http://archive.ubuntu.com/ubuntu bionic-updates InRelease [88.7 kB]\n",
            "\r                                                                               \rGet:3 http://archive.ubuntu.com/ubuntu bionic-backports InRelease [74.6 kB]\n",
            "\r                                                                               \rGet:4 https://cloud.r-project.org/bin/linux/ubuntu bionic-cran40/ InRelease [3,626 B]\n",
            "Hit:5 https://developer.download.nvidia.com/compute/cuda/repos/ubuntu1804/x86_64  InRelease\n",
            "Get:6 http://security.ubuntu.com/ubuntu bionic-security InRelease [88.7 kB]\n",
            "Hit:7 http://ppa.launchpad.net/c2d4u.team/c2d4u4.0+/ubuntu bionic InRelease\n",
            "Ign:8 https://developer.download.nvidia.com/compute/machine-learning/repos/ubuntu1804/x86_64  InRelease\n",
            "Hit:9 https://developer.download.nvidia.com/compute/machine-learning/repos/ubuntu1804/x86_64  Release\n",
            "Hit:10 http://ppa.launchpad.net/cran/libgit2/ubuntu bionic InRelease\n",
            "Hit:11 http://ppa.launchpad.net/deadsnakes/ppa/ubuntu bionic InRelease\n",
            "Hit:12 http://ppa.launchpad.net/graphics-drivers/ppa/ubuntu bionic InRelease\n",
            "Get:13 http://archive.ubuntu.com/ubuntu bionic-updates/multiverse amd64 Packages [29.8 kB]\n",
            "Get:14 http://archive.ubuntu.com/ubuntu bionic-updates/main amd64 Packages [3,298 kB]\n",
            "Get:15 http://archive.ubuntu.com/ubuntu bionic-updates/universe amd64 Packages [2,297 kB]\n",
            "Get:16 http://archive.ubuntu.com/ubuntu bionic-updates/restricted amd64 Packages [1,047 kB]\n",
            "Get:17 http://archive.ubuntu.com/ubuntu bionic-backports/main amd64 Packages [12.2 kB]\n",
            "Get:19 http://security.ubuntu.com/ubuntu bionic-security/universe amd64 Packages [1,521 kB]\n",
            "Get:20 http://security.ubuntu.com/ubuntu bionic-security/main amd64 Packages [2,866 kB]\n",
            "Get:21 http://security.ubuntu.com/ubuntu bionic-security/multiverse amd64 Packages [22.8 kB]\n",
            "Get:22 http://security.ubuntu.com/ubuntu bionic-security/restricted amd64 Packages [1,013 kB]\n",
            "Fetched 12.4 MB in 5s (2,494 kB/s)\n",
            "Reading package lists... Done\n"
          ]
        }
      ]
    },
    {
      "cell_type": "code",
      "metadata": {
        "id": "_xKwTpATHqSe",
        "colab": {
          "base_uri": "https://localhost:8080/"
        },
        "outputId": "4dacfc01-ebfa-4e6a-a12c-7fa2a4a605ae"
      },
      "source": [
        "# Download the Postgres driver that will allow Spark to interact with Postgres.\n",
        "!wget https://jdbc.postgresql.org/download/postgresql-42.2.16.jar"
      ],
      "execution_count": 2,
      "outputs": [
        {
          "output_type": "stream",
          "name": "stdout",
          "text": [
            "--2022-06-25 17:13:03--  https://jdbc.postgresql.org/download/postgresql-42.2.16.jar\n",
            "Resolving jdbc.postgresql.org (jdbc.postgresql.org)... 72.32.157.228, 2001:4800:3e1:1::228\n",
            "Connecting to jdbc.postgresql.org (jdbc.postgresql.org)|72.32.157.228|:443... connected.\n",
            "HTTP request sent, awaiting response... 200 OK\n",
            "Length: 1002883 (979K) [application/java-archive]\n",
            "Saving to: ‘postgresql-42.2.16.jar’\n",
            "\n",
            "postgresql-42.2.16. 100%[===================>] 979.38K  5.59MB/s    in 0.2s    \n",
            "\n",
            "2022-06-25 17:13:04 (5.59 MB/s) - ‘postgresql-42.2.16.jar’ saved [1002883/1002883]\n",
            "\n"
          ]
        }
      ]
    },
    {
      "cell_type": "code",
      "metadata": {
        "id": "MMqDAjVS0KN9"
      },
      "source": [
        "from pyspark.sql import SparkSession\n",
        "spark = SparkSession.builder.appName(\"M16-Amazon-Challenge\").config(\"spark.driver.extraClassPath\",\"/content/postgresql-42.2.16.jar\").getOrCreate()"
      ],
      "execution_count": 3,
      "outputs": []
    },
    {
      "cell_type": "markdown",
      "metadata": {
        "id": "cyBsySGuY-9V"
      },
      "source": [
        "### Load Amazon Data into Spark DataFrame"
      ]
    },
    {
      "cell_type": "code",
      "metadata": {
        "id": "CtCmBhQJY-9Z",
        "colab": {
          "base_uri": "https://localhost:8080/"
        },
        "outputId": "79ac9ed5-c7a6-47c6-d637-1b3ba402c5c7"
      },
      "source": [
        "from pyspark import SparkFiles\n",
        "url = \"https://s3.amazonaws.com/amazon-reviews-pds/tsv/amazon_reviews_us_Musical_Instruments_v1_00.tsv.gz\"\n",
        "spark.sparkContext.addFile(url)\n",
        "df = spark.read.option(\"encoding\", \"UTF-8\").csv(SparkFiles.get(\"\"), sep=\"\\t\", header=True, inferSchema=True)\n",
        "df.show()"
      ],
      "execution_count": 4,
      "outputs": [
        {
          "output_type": "stream",
          "name": "stdout",
          "text": [
            "+-----------+-----------+--------------+----------+--------------+--------------------+-------------------+-----------+-------------+-----------+----+-----------------+--------------------+--------------------+-----------+\n",
            "|marketplace|customer_id|     review_id|product_id|product_parent|       product_title|   product_category|star_rating|helpful_votes|total_votes|vine|verified_purchase|     review_headline|         review_body|review_date|\n",
            "+-----------+-----------+--------------+----------+--------------+--------------------+-------------------+-----------+-------------+-----------+----+-----------------+--------------------+--------------------+-----------+\n",
            "|         US|   45610553| RMDCHWD0Y5OZ9|B00HH62VB6|     618218723|AGPtek® 10 Isolat...|Musical Instruments|          3|            0|          1|   N|                N|         Three Stars|Works very good, ...| 2015-08-31|\n",
            "|         US|   14640079| RZSL0BALIYUNU|B003LRN53I|     986692292|Sennheiser HD203 ...|Musical Instruments|          5|            0|          0|   N|                Y|          Five Stars|Nice headphones a...| 2015-08-31|\n",
            "|         US|    6111003| RIZR67JKUDBI0|B0006VMBHI|     603261968|AudioQuest LP rec...|Musical Instruments|          3|            0|          1|   N|                Y|         Three Stars|removes dust. doe...| 2015-08-31|\n",
            "|         US|    1546619|R27HL570VNL85F|B002B55TRG|     575084461|Hohner Inc. 560BX...|Musical Instruments|          5|            0|          0|   N|                Y|I purchase these ...|I purchase these ...| 2015-08-31|\n",
            "|         US|   12222213|R34EBU9QDWJ1GD|B00N1YPXW2|     165236328|Blue Yeti USB Mic...|Musical Instruments|          5|            0|          0|   N|                Y|          Five Stars|This is an awesom...| 2015-08-31|\n",
            "|         US|   46018513|R1WCUI4Z1SIQEO|B001N4GRGS|     134151483|Middle Atlantic P...|Musical Instruments|          5|            0|          0|   N|                N|          Five Stars|Used to cool equi...| 2015-08-31|\n",
            "|         US|   10225065| RL5LNO26GAVJ1|B009PJRMHQ|     694166585|Kmise 1pc Pickgua...|Musical Instruments|          2|            3|          4|   N|                Y|Will not Fit Epip...|Note- Does not Fi...| 2015-08-31|\n",
            "|         US|    6356995|R3GYQ5W8JHP8SB|B00NKBDAZS|     446431775|Kealoha Concert U...|Musical Instruments|          5|            0|          0|   N|                Y|          Five Stars|Well built Ukulel...| 2015-08-31|\n",
            "|         US|   35297198|R30SHYQXGG5EYC|B006MIU7U2|     125871705|Halco 80000 - MR1...|Musical Instruments|          5|            0|          0|   N|                Y|Works fine. Hope ...|Had to replace a ...| 2015-08-31|\n",
            "|         US|   32139520|R14YLXA56NP51I|B000FIBD0I|     771888534|Gator GPTBLACK Pl...|Musical Instruments|          5|            1|          1|   N|                N|I upgraded the po...|I've owned multip...| 2015-08-31|\n",
            "|         US|   36060782|R1ZH0HSH38IOTZ|B0002E52GG|      68535945|Hetman 1 - Light ...|Musical Instruments|          5|            0|          0|   N|                Y|My son's favourit...|Consistent qualit...| 2015-08-31|\n",
            "|         US|    5301309|R3H53KLLC210XI|B00RZIH52G|     725541773|Dragonpad pop fil...|Musical Instruments|          4|            0|          0|   N|                Y|Great pop filter ...|by far the best p...| 2015-08-31|\n",
            "|         US|   37472935|R3OOR877NGA8JK|B001792BAU|      46570323|DharmaObjects Rel...|Musical Instruments|          3|            0|          0|   N|                Y|                  Ok|Beautiful set. On...| 2015-08-31|\n",
            "|         US|   33578270|R1BY7WKOZ3KMH0|B009GSKW1Y|     547963417|Musiclily SSS Pla...|Musical Instruments|          2|            0|          0|   N|                Y|           Two Stars|Bridge pickup was...| 2015-08-31|\n",
            "|         US|   22070226| RXP1TFSWE8EG9|B0002F4TKA|     436074323|Vic Firth America...|Musical Instruments|          5|            0|          0|   N|                Y|          Five Stars|Feels good and la...| 2015-08-31|\n",
            "|         US|   52862655|R3J44DPP12OTLJ|B00K17YFBW|      81933093|Guitar Stand for ...|Musical Instruments|          5|            0|          0|   N|                Y|Great stand... on...|I love the stand....| 2015-08-31|\n",
            "|         US|    4427243| RFOV69SK0T676|B00EQ24HJS|     669249276|Generic 3PLY Faux...|Musical Instruments|          5|            0|          0|   N|                Y|Looks great. You ...|On time. Looks gr...| 2015-08-31|\n",
            "|         US|   14108571|R2HUWDNW62FOL3|B00IBOYTUE|     749537231|Audio 2000 6525 3...|Musical Instruments|          1|            0|          0|   N|                Y|  Poor sound quality|I was hoping it w...| 2015-08-31|\n",
            "|         US|   27314089|R1KSU30XZGR452|B00FBRUSAE|     792472601|Sawtooth ST-AMP-1...|Musical Instruments|          5|            0|          0|   N|                Y|Perfect for the b...|Good sound for it...| 2015-08-31|\n",
            "|         US|   16735445|R2TZVLLTSHA07N|B0113D2QUO|     269114019|Upado Unlimited G...|Musical Instruments|          5|            1|          1|   N|                Y|It really is a mu...|Wow! I didn't exp...| 2015-08-31|\n",
            "+-----------+-----------+--------------+----------+--------------+--------------------+-------------------+-----------+-------------+-----------+----+-----------------+--------------------+--------------------+-----------+\n",
            "only showing top 20 rows\n",
            "\n"
          ]
        }
      ]
    },
    {
      "cell_type": "code",
      "metadata": {
        "id": "Exuo6ebUsCqW",
        "colab": {
          "base_uri": "https://localhost:8080/"
        },
        "outputId": "e9b9d4fc-9a80-402e-d64c-f5bd1c9e9c0c"
      },
      "source": [
        "df_votes_1 = df.filter(df.total_votes >= 20)\n",
        "df_votes_1.show(10)"
      ],
      "execution_count": 5,
      "outputs": [
        {
          "output_type": "stream",
          "name": "stdout",
          "text": [
            "+-----------+-----------+--------------+----------+--------------+--------------------+-------------------+-----------+-------------+-----------+----+-----------------+--------------------+--------------------+-----------+\n",
            "|marketplace|customer_id|     review_id|product_id|product_parent|       product_title|   product_category|star_rating|helpful_votes|total_votes|vine|verified_purchase|     review_headline|         review_body|review_date|\n",
            "+-----------+-----------+--------------+----------+--------------+--------------------+-------------------+-----------+-------------+-----------+----+-----------------+--------------------+--------------------+-----------+\n",
            "|         US|   15365576|R2243Y3OD8U6KQ|B00W1RTVGO|     160618734|Supertech stage l...|Musical Instruments|          5|           47|         61|   N|                N|This fills a room...|I am always looki...| 2015-08-31|\n",
            "|         US|   28770559|R2TGT0CDTCAAHW|B00INJ7HBK|     157027184|Singing Machine I...|Musical Instruments|          5|           21|         23|   N|                Y|   excellent product|Kids love it! It'...| 2015-08-31|\n",
            "|         US|   35225823| RX4D22YSXEF4P|B009EK8PUY|     166820090|Akai Front Load C...|Musical Instruments|          1|           37|         38|   N|                Y|All the reviews t...|All the reviews t...| 2015-08-31|\n",
            "|         US|   24740219|R3FL2NTLFUSPTQ|B014K2S348|     865024902|AKG 2015 NEWEST M...|Musical Instruments|          5|           33|         37|   N|                N|Might need an Amp...|I picked these he...| 2015-08-30|\n",
            "|         US|   26124872|R3QTP3YNZXAPPF|B004ISK4E2|     269767230|Fender CD-60 All ...|Musical Instruments|          3|           23|         24|   N|                Y|Couldnt be happie...|Great value. Awes...| 2015-08-30|\n",
            "|         US|   16452718|R36V6V42VN5AS5|B00SCP7IB4|     160806469|Numark Mixtrack 3...|Musical Instruments|          5|           34|         37|   N|                Y|let me say that t...|First off, let me...| 2015-08-30|\n",
            "|         US|   40567300|R27LZWE27BJPOB|B0142OY3ZM|     201152025|WOWTOU RGB Stage ...|Musical Instruments|          5|           22|         23|   N|                N|    Neat desktop toy|I saw this item a...| 2015-08-30|\n",
            "|         US|   52695075|  RMRD6SMF2AUQ|B010W6WFEA|     592936032|Shure MV51 Digita...|Musical Instruments|          3|            4|         21|   N|                N|A bit short of th...|Almost Shure, alm...| 2015-08-30|\n",
            "|         US|   11587240| RMPCXKWX3T57Y|B000U0DU34|     875707506|Fulltone OCD Obse...|Musical Instruments|          1|            1|         73|   N|                N|so happy the fina...|Finally I can't w...| 2015-08-29|\n",
            "|         US|   49287335|R1P7GJ0IN2BRNH|B005FIFM14|       2563833|Pick Punch - The ...|Musical Instruments|          5|           37|         37|   N|                Y|  super fun and easy|Had it for about ...| 2015-08-29|\n",
            "+-----------+-----------+--------------+----------+--------------+--------------------+-------------------+-----------+-------------+-----------+----+-----------------+--------------------+--------------------+-----------+\n",
            "only showing top 10 rows\n",
            "\n"
          ]
        }
      ]
    },
    {
      "cell_type": "code",
      "source": [
        "df_votes_2 = df_votes_1.filter((df_votes_1.helpful_votes / df_votes_1.total_votes) >= 0.5)\n",
        "df_votes_2.show(10)"
      ],
      "metadata": {
        "colab": {
          "base_uri": "https://localhost:8080/"
        },
        "id": "yYwhPxIb3ei_",
        "outputId": "da8f2127-5a6f-49ad-80b6-812bffef1071"
      },
      "execution_count": 6,
      "outputs": [
        {
          "output_type": "stream",
          "name": "stdout",
          "text": [
            "+-----------+-----------+--------------+----------+--------------+--------------------+-------------------+-----------+-------------+-----------+----+-----------------+--------------------+--------------------+-----------+\n",
            "|marketplace|customer_id|     review_id|product_id|product_parent|       product_title|   product_category|star_rating|helpful_votes|total_votes|vine|verified_purchase|     review_headline|         review_body|review_date|\n",
            "+-----------+-----------+--------------+----------+--------------+--------------------+-------------------+-----------+-------------+-----------+----+-----------------+--------------------+--------------------+-----------+\n",
            "|         US|   15365576|R2243Y3OD8U6KQ|B00W1RTVGO|     160618734|Supertech stage l...|Musical Instruments|          5|           47|         61|   N|                N|This fills a room...|I am always looki...| 2015-08-31|\n",
            "|         US|   28770559|R2TGT0CDTCAAHW|B00INJ7HBK|     157027184|Singing Machine I...|Musical Instruments|          5|           21|         23|   N|                Y|   excellent product|Kids love it! It'...| 2015-08-31|\n",
            "|         US|   35225823| RX4D22YSXEF4P|B009EK8PUY|     166820090|Akai Front Load C...|Musical Instruments|          1|           37|         38|   N|                Y|All the reviews t...|All the reviews t...| 2015-08-31|\n",
            "|         US|   24740219|R3FL2NTLFUSPTQ|B014K2S348|     865024902|AKG 2015 NEWEST M...|Musical Instruments|          5|           33|         37|   N|                N|Might need an Amp...|I picked these he...| 2015-08-30|\n",
            "|         US|   26124872|R3QTP3YNZXAPPF|B004ISK4E2|     269767230|Fender CD-60 All ...|Musical Instruments|          3|           23|         24|   N|                Y|Couldnt be happie...|Great value. Awes...| 2015-08-30|\n",
            "|         US|   16452718|R36V6V42VN5AS5|B00SCP7IB4|     160806469|Numark Mixtrack 3...|Musical Instruments|          5|           34|         37|   N|                Y|let me say that t...|First off, let me...| 2015-08-30|\n",
            "|         US|   40567300|R27LZWE27BJPOB|B0142OY3ZM|     201152025|WOWTOU RGB Stage ...|Musical Instruments|          5|           22|         23|   N|                N|    Neat desktop toy|I saw this item a...| 2015-08-30|\n",
            "|         US|   49287335|R1P7GJ0IN2BRNH|B005FIFM14|       2563833|Pick Punch - The ...|Musical Instruments|          5|           37|         37|   N|                Y|  super fun and easy|Had it for about ...| 2015-08-29|\n",
            "|         US|   50984149|R2R6JPF9KOD2HJ|B008GXEFWC|     162279247|ddrum DD1 Complet...|Musical Instruments|          5|           19|         20|   N|                Y|   Super Drum Kit!!!|Awesome Kit With ...| 2015-08-29|\n",
            "|         US|   18517211|R2J0ZZGFXKM8KR|B00MZY6DXM|     498246743|Bakelite Guitar F...|Musical Instruments|          2|           21|         22|   N|                Y|NOT A SET OF NUT ...|NOT A SET OF NUT ...| 2015-08-28|\n",
            "+-----------+-----------+--------------+----------+--------------+--------------------+-------------------+-----------+-------------+-----------+----+-----------------+--------------------+--------------------+-----------+\n",
            "only showing top 10 rows\n",
            "\n"
          ]
        }
      ]
    },
    {
      "cell_type": "code",
      "source": [
        "paid_vine_df = df_votes_2.filter(df_votes_2.vine == \"Y\")\n",
        "paid_vine_df.show(10)"
      ],
      "metadata": {
        "colab": {
          "base_uri": "https://localhost:8080/"
        },
        "id": "Ak2-_f894AVN",
        "outputId": "74b83d97-cd47-47cd-8c1d-6548bc3f3eac"
      },
      "execution_count": 7,
      "outputs": [
        {
          "output_type": "stream",
          "name": "stdout",
          "text": [
            "+-----------+-----------+--------------+----------+--------------+--------------------+-------------------+-----------+-------------+-----------+----+-----------------+--------------------+--------------------+-----------+\n",
            "|marketplace|customer_id|     review_id|product_id|product_parent|       product_title|   product_category|star_rating|helpful_votes|total_votes|vine|verified_purchase|     review_headline|         review_body|review_date|\n",
            "+-----------+-----------+--------------+----------+--------------+--------------------+-------------------+-----------+-------------+-----------+----+-----------------+--------------------+--------------------+-----------+\n",
            "|         US|   42689422|R1R9RU7JW0MFR2|B0124Y99PQ|     618027384|Casio CGP-700BK C...|Musical Instruments|          4|           20|         23|   Y|                N|Be prepared to be...|First off PLEASE ...| 2015-08-27|\n",
            "|         US|   29182364|R19EFYNN3W8Q07|B00ZU4G0ZK|     499223759|TC Electronic Pol...|Musical Instruments|          5|           26|         32|   Y|                N|         Great Tuner|I’ve been using a...| 2015-08-22|\n",
            "|         US|   19467797|R34DJ1R8AEU0SG|B00V66XWTI|     758752724|Audio-Technica AT...|Musical Instruments|          5|           29|         35|   Y|                N|Great mic, phenom...|[[VIDEOID:282d682...| 2015-07-28|\n",
            "|         US|   52081784|R25P5CXK5L9RHF|B0100RBPTC|     139750877|Casio Privia PX16...|Musical Instruments|          5|          146|        161|   Y|                N|Review: Casio Pri...|[[VIDEOID:7885869...| 2015-07-23|\n",
            "|         US|   17421494|R2E9VZB3I4LSN5|B0100RBPTC|     139750877|Casio Privia PX16...|Musical Instruments|          5|           55|         59|   Y|                N|The sound is magn...|The Casio Privia ...| 2015-07-13|\n",
            "|         US|   50273418| RKYLHZL7EPELX|B00V66XWTI|     758752724|Audio-Technica AT...|Musical Instruments|          4|           19|         25|   Y|                N|Quality sound acc...|[[VIDEOID:2e41e07...| 2015-06-17|\n",
            "|         US|   50027179|R1U13EKGQD3ZE6|B00MIXFBL0|     363629101|TASCAM DR-60DmkII...|Musical Instruments|          5|           22|         25|   Y|                N|            Powerful|[[VIDEOID:50615d5...| 2015-03-08|\n",
            "|         US|   50258811| RYW05F1MUEF01|B00NW1IZ5Q|     923510791|Doppler Labs Dubs...|Musical Instruments|          5|           87|        102|   Y|                N|High Fidelity Ear...|I tested these ea...| 2015-02-25|\n",
            "|         US|   28322689|R2SW4NXNO7HZJ5|B00MIXFBKG|      21180708|      Tascam DR-22WL|Musical Instruments|          4|           28|         33|   Y|                N|Excellent portabl...|The DR-22WL (2-ch...| 2015-01-27|\n",
            "|         US|   52880152|R2016NFLSUR97Y|B00MIXFBKG|      21180708|      Tascam DR-22WL|Musical Instruments|          2|           26|         37|   Y|                N|Wi-Fi Recorder wi...|When it came to t...| 2015-01-18|\n",
            "+-----------+-----------+--------------+----------+--------------+--------------------+-------------------+-----------+-------------+-----------+----+-----------------+--------------------+--------------------+-----------+\n",
            "only showing top 10 rows\n",
            "\n"
          ]
        }
      ]
    },
    {
      "cell_type": "code",
      "source": [
        "unpaid_vine_df = df_votes_2.filter(df_votes_2.vine == \"N\")\n",
        "unpaid_vine_df.show(10)"
      ],
      "metadata": {
        "colab": {
          "base_uri": "https://localhost:8080/"
        },
        "id": "N_VHQDxV4PfP",
        "outputId": "6efde25c-8090-4686-d826-f24efe88d0fe"
      },
      "execution_count": 8,
      "outputs": [
        {
          "output_type": "stream",
          "name": "stdout",
          "text": [
            "+-----------+-----------+--------------+----------+--------------+--------------------+-------------------+-----------+-------------+-----------+----+-----------------+--------------------+--------------------+-----------+\n",
            "|marketplace|customer_id|     review_id|product_id|product_parent|       product_title|   product_category|star_rating|helpful_votes|total_votes|vine|verified_purchase|     review_headline|         review_body|review_date|\n",
            "+-----------+-----------+--------------+----------+--------------+--------------------+-------------------+-----------+-------------+-----------+----+-----------------+--------------------+--------------------+-----------+\n",
            "|         US|   15365576|R2243Y3OD8U6KQ|B00W1RTVGO|     160618734|Supertech stage l...|Musical Instruments|          5|           47|         61|   N|                N|This fills a room...|I am always looki...| 2015-08-31|\n",
            "|         US|   28770559|R2TGT0CDTCAAHW|B00INJ7HBK|     157027184|Singing Machine I...|Musical Instruments|          5|           21|         23|   N|                Y|   excellent product|Kids love it! It'...| 2015-08-31|\n",
            "|         US|   35225823| RX4D22YSXEF4P|B009EK8PUY|     166820090|Akai Front Load C...|Musical Instruments|          1|           37|         38|   N|                Y|All the reviews t...|All the reviews t...| 2015-08-31|\n",
            "|         US|   24740219|R3FL2NTLFUSPTQ|B014K2S348|     865024902|AKG 2015 NEWEST M...|Musical Instruments|          5|           33|         37|   N|                N|Might need an Amp...|I picked these he...| 2015-08-30|\n",
            "|         US|   26124872|R3QTP3YNZXAPPF|B004ISK4E2|     269767230|Fender CD-60 All ...|Musical Instruments|          3|           23|         24|   N|                Y|Couldnt be happie...|Great value. Awes...| 2015-08-30|\n",
            "|         US|   16452718|R36V6V42VN5AS5|B00SCP7IB4|     160806469|Numark Mixtrack 3...|Musical Instruments|          5|           34|         37|   N|                Y|let me say that t...|First off, let me...| 2015-08-30|\n",
            "|         US|   40567300|R27LZWE27BJPOB|B0142OY3ZM|     201152025|WOWTOU RGB Stage ...|Musical Instruments|          5|           22|         23|   N|                N|    Neat desktop toy|I saw this item a...| 2015-08-30|\n",
            "|         US|   49287335|R1P7GJ0IN2BRNH|B005FIFM14|       2563833|Pick Punch - The ...|Musical Instruments|          5|           37|         37|   N|                Y|  super fun and easy|Had it for about ...| 2015-08-29|\n",
            "|         US|   50984149|R2R6JPF9KOD2HJ|B008GXEFWC|     162279247|ddrum DD1 Complet...|Musical Instruments|          5|           19|         20|   N|                Y|   Super Drum Kit!!!|Awesome Kit With ...| 2015-08-29|\n",
            "|         US|   18517211|R2J0ZZGFXKM8KR|B00MZY6DXM|     498246743|Bakelite Guitar F...|Musical Instruments|          2|           21|         22|   N|                Y|NOT A SET OF NUT ...|NOT A SET OF NUT ...| 2015-08-28|\n",
            "+-----------+-----------+--------------+----------+--------------+--------------------+-------------------+-----------+-------------+-----------+----+-----------------+--------------------+--------------------+-----------+\n",
            "only showing top 10 rows\n",
            "\n"
          ]
        }
      ]
    },
    {
      "cell_type": "code",
      "source": [
        "paid_reviews_total = paid_vine_df.count()\n",
        "paid_reviews_total"
      ],
      "metadata": {
        "colab": {
          "base_uri": "https://localhost:8080/"
        },
        "id": "iIE51G4K4hMb",
        "outputId": "730b5146-e70c-4b4c-c8d9-07435bc076c1"
      },
      "execution_count": 9,
      "outputs": [
        {
          "output_type": "execute_result",
          "data": {
            "text/plain": [
              "60"
            ]
          },
          "metadata": {},
          "execution_count": 9
        }
      ]
    },
    {
      "cell_type": "code",
      "source": [
        "paid_five_star = paid_vine_df.filter(paid_vine_df.star_rating == 5).count()\n",
        "paid_five_star"
      ],
      "metadata": {
        "colab": {
          "base_uri": "https://localhost:8080/"
        },
        "id": "jxj5mcRp4t34",
        "outputId": "5a6ec69f-e788-4c39-90ce-a5469559bd34"
      },
      "execution_count": 10,
      "outputs": [
        {
          "output_type": "execute_result",
          "data": {
            "text/plain": [
              "34"
            ]
          },
          "metadata": {},
          "execution_count": 10
        }
      ]
    },
    {
      "cell_type": "code",
      "source": [
        "paid_five_star_pcnt = (paid_five_star / paid_reviews_total) * 100\n",
        "paid_five_star_pcnt"
      ],
      "metadata": {
        "colab": {
          "base_uri": "https://localhost:8080/"
        },
        "id": "HH-xN04x49pP",
        "outputId": "c424534a-3c83-40b1-d009-b6e2b4cf5011"
      },
      "execution_count": 11,
      "outputs": [
        {
          "output_type": "execute_result",
          "data": {
            "text/plain": [
              "56.666666666666664"
            ]
          },
          "metadata": {},
          "execution_count": 11
        }
      ]
    },
    {
      "cell_type": "code",
      "source": [
        "unpaid_total = unpaid_vine_df.count()\n",
        "unpaid_total"
      ],
      "metadata": {
        "colab": {
          "base_uri": "https://localhost:8080/"
        },
        "id": "hJyCsNUl5O0L",
        "outputId": "c8571d9c-ad28-4442-81ad-62faf53e3ffa"
      },
      "execution_count": 12,
      "outputs": [
        {
          "output_type": "execute_result",
          "data": {
            "text/plain": [
              "14477"
            ]
          },
          "metadata": {},
          "execution_count": 12
        }
      ]
    },
    {
      "cell_type": "code",
      "source": [
        "unpaid_five_star = unpaid_vine_df.filter(unpaid_vine_df.star_rating == 5).count()\n",
        "unpaid_five_star"
      ],
      "metadata": {
        "colab": {
          "base_uri": "https://localhost:8080/"
        },
        "id": "W3ju1Zqw5Zp7",
        "outputId": "d8b3efbb-d809-466e-9379-533d5bf61c5a"
      },
      "execution_count": 13,
      "outputs": [
        {
          "output_type": "execute_result",
          "data": {
            "text/plain": [
              "8212"
            ]
          },
          "metadata": {},
          "execution_count": 13
        }
      ]
    },
    {
      "cell_type": "code",
      "source": [
        "unpaid_five_star_pct = (unpaid_five_star / unpaid_total) * 100\n",
        "unpaid_five_star_pct"
      ],
      "metadata": {
        "colab": {
          "base_uri": "https://localhost:8080/"
        },
        "id": "R9jlY5Ng5l8Y",
        "outputId": "6abd0ef4-dd12-40c0-8bb6-3073f76be6f1"
      },
      "execution_count": 14,
      "outputs": [
        {
          "output_type": "execute_result",
          "data": {
            "text/plain": [
              "56.72445948746287"
            ]
          },
          "metadata": {},
          "execution_count": 14
        }
      ]
    }
  ]
}